{
  "nbformat": 4,
  "nbformat_minor": 0,
  "metadata": {
    "colab": {
      "provenance": [],
      "include_colab_link": true
    },
    "kernelspec": {
      "name": "python2",
      "display_name": "Python 2"
    },
    "accelerator": "GPU"
  },
  "cells": [
    {
      "cell_type": "markdown",
      "metadata": {
        "id": "view-in-github",
        "colab_type": "text"
      },
      "source": [
        "<a href=\"https://colab.research.google.com/github/eliecruz/CCDEPLRL_EXERCISES_-COM211-/blob/main/Exercise5.ipynb\" target=\"_parent\"><img src=\"https://colab.research.google.com/assets/colab-badge.svg\" alt=\"Open In Colab\"/></a>"
      ]
    },
    {
      "cell_type": "markdown",
      "source": [
        "# Exercise 5"
      ],
      "metadata": {
        "id": "b6IEc4ScWrPh"
      }
    },
    {
      "cell_type": "code",
      "source": [
        "from tensorflow.keras.preprocessing.sequence import pad_sequences\n",
        "from tensorflow.keras.layers import Embedding, LSTM, Dense, Dropout, Bidirectional\n",
        "from tensorflow.keras.preprocessing.text import Tokenizer\n",
        "from tensorflow.keras.models import Sequential\n",
        "from tensorflow.keras.optimizers import Adam\n",
        "from tensorflow.keras import regularizers\n",
        "import tensorflow.keras.utils as ku\n",
        "import numpy as np"
      ],
      "metadata": {
        "id": "kM9X6KKBWNdJ"
      },
      "execution_count": 1,
      "outputs": []
    },
    {
      "cell_type": "code",
      "metadata": {
        "id": "PRnDnCW-Z7qv"
      },
      "source": [
        "tokenizer = Tokenizer()\n",
        "data = open('sonnets.txt').read()\n",
        "\n",
        "corpus = data.lower().split(\"\\n\")\n",
        "\n",
        "\n",
        "tokenizer.fit_on_texts(corpus)\n",
        "total_words = len(tokenizer.word_index) + 1\n",
        "\n",
        "# create input sequences using list of tokens\n",
        "input_sequences = []\n",
        "for line in corpus:\n",
        "\ttoken_list = tokenizer.texts_to_sequences([line])[0]\n",
        "\tfor i in range(1, len(token_list)):\n",
        "\t\tn_gram_sequence = token_list[:i+1]\n",
        "\t\tinput_sequences.append(n_gram_sequence)\n",
        "\n",
        "\n",
        "# pad sequences\n",
        "max_sequence_len = max([len(x) for x in input_sequences])\n",
        "input_sequences = np.array(pad_sequences(input_sequences, maxlen=max_sequence_len, padding='pre'))\n",
        "\n",
        "# create predictors and label\n",
        "predictors, label = input_sequences[:,:-1],input_sequences[:,-1]\n",
        "\n",
        "label = ku.to_categorical(label, num_classes=total_words)"
      ],
      "execution_count": 2,
      "outputs": []
    },
    {
      "cell_type": "markdown",
      "source": [
        "1. Create the LSTM model"
      ],
      "metadata": {
        "id": "n9rk_hx4WXNh"
      }
    },
    {
      "cell_type": "code",
      "metadata": {
        "id": "w9vH8Y59ajYL",
        "colab": {
          "base_uri": "https://localhost:8080/"
        },
        "outputId": "1474282a-07cd-478a-c0e4-f084804c3e62"
      },
      "source": [
        "model = Sequential()\n",
        "model.add(Embedding(total_words, 155, input_length=max_sequence_len-1))\n",
        "model.add(Bidirectional(LSTM(375)))\n",
        "model.add(Dropout(0.2))\n",
        "model.add(Dense(total_words, activation='softmax'))\n",
        "adam = Adam(lr=0.01)\n",
        "model.compile(loss='categorical_crossentropy', optimizer=adam, metrics=['accuracy'])\n",
        "print(model.summary())\n"
      ],
      "execution_count": 3,
      "outputs": [
        {
          "output_type": "stream",
          "name": "stderr",
          "text": [
            "WARNING:absl:`lr` is deprecated in Keras optimizer, please use `learning_rate` or use the legacy optimizer, e.g.,tf.keras.optimizers.legacy.Adam.\n"
          ]
        },
        {
          "output_type": "stream",
          "name": "stdout",
          "text": [
            "Model: \"sequential\"\n",
            "_________________________________________________________________\n",
            " Layer (type)                Output Shape              Param #   \n",
            "=================================================================\n",
            " embedding (Embedding)       (None, 10, 155)           523125    \n",
            "                                                                 \n",
            " bidirectional (Bidirection  (None, 750)               1593000   \n",
            " al)                                                             \n",
            "                                                                 \n",
            " dropout (Dropout)           (None, 750)               0         \n",
            "                                                                 \n",
            " dense (Dense)               (None, 3375)              2534625   \n",
            "                                                                 \n",
            "=================================================================\n",
            "Total params: 4650750 (17.74 MB)\n",
            "Trainable params: 4650750 (17.74 MB)\n",
            "Non-trainable params: 0 (0.00 Byte)\n",
            "_________________________________________________________________\n",
            "None\n"
          ]
        }
      ]
    },
    {
      "cell_type": "code",
      "metadata": {
        "id": "AIg2f1HBxqof",
        "colab": {
          "base_uri": "https://localhost:8080/"
        },
        "outputId": "ff9fceac-d4ac-4ef4-a0ef-6753cdeb8021"
      },
      "source": [
        " history = model.fit(predictors, label, epochs=50, verbose=1)"
      ],
      "execution_count": 4,
      "outputs": [
        {
          "output_type": "stream",
          "name": "stdout",
          "text": [
            "Epoch 1/50\n",
            "484/484 [==============================] - 22s 24ms/step - loss: 6.8226 - accuracy: 0.0245\n",
            "Epoch 2/50\n",
            "484/484 [==============================] - 4s 8ms/step - loss: 6.3865 - accuracy: 0.0371\n",
            "Epoch 3/50\n",
            "484/484 [==============================] - 5s 9ms/step - loss: 6.1001 - accuracy: 0.0508\n",
            "Epoch 4/50\n",
            "484/484 [==============================] - 4s 9ms/step - loss: 5.7725 - accuracy: 0.0628\n",
            "Epoch 5/50\n",
            "484/484 [==============================] - 4s 9ms/step - loss: 5.3522 - accuracy: 0.0812\n",
            "Epoch 6/50\n",
            "484/484 [==============================] - 5s 10ms/step - loss: 4.8426 - accuracy: 0.1082\n",
            "Epoch 7/50\n",
            "484/484 [==============================] - 4s 8ms/step - loss: 4.2135 - accuracy: 0.1607\n",
            "Epoch 8/50\n",
            "484/484 [==============================] - 4s 8ms/step - loss: 3.5351 - accuracy: 0.2564\n",
            "Epoch 9/50\n",
            "484/484 [==============================] - 4s 9ms/step - loss: 2.8960 - accuracy: 0.3737\n",
            "Epoch 10/50\n",
            "484/484 [==============================] - 4s 8ms/step - loss: 2.3715 - accuracy: 0.4817\n",
            "Epoch 11/50\n",
            "484/484 [==============================] - 4s 8ms/step - loss: 1.9607 - accuracy: 0.5719\n",
            "Epoch 12/50\n",
            "484/484 [==============================] - 4s 9ms/step - loss: 1.6460 - accuracy: 0.6443\n",
            "Epoch 13/50\n",
            "484/484 [==============================] - 4s 8ms/step - loss: 1.3947 - accuracy: 0.7015\n",
            "Epoch 14/50\n",
            "484/484 [==============================] - 4s 8ms/step - loss: 1.2049 - accuracy: 0.7427\n",
            "Epoch 15/50\n",
            "484/484 [==============================] - 4s 9ms/step - loss: 1.0674 - accuracy: 0.7747\n",
            "Epoch 16/50\n",
            "484/484 [==============================] - 4s 9ms/step - loss: 0.9718 - accuracy: 0.7928\n",
            "Epoch 17/50\n",
            "484/484 [==============================] - 4s 9ms/step - loss: 0.8897 - accuracy: 0.8083\n",
            "Epoch 18/50\n",
            "484/484 [==============================] - 5s 9ms/step - loss: 0.8407 - accuracy: 0.8170\n",
            "Epoch 19/50\n",
            "484/484 [==============================] - 4s 8ms/step - loss: 0.7994 - accuracy: 0.8236\n",
            "Epoch 20/50\n",
            "484/484 [==============================] - 4s 8ms/step - loss: 0.7641 - accuracy: 0.8295\n",
            "Epoch 21/50\n",
            "484/484 [==============================] - 4s 9ms/step - loss: 0.7412 - accuracy: 0.8310\n",
            "Epoch 22/50\n",
            "484/484 [==============================] - 4s 8ms/step - loss: 0.7215 - accuracy: 0.8352\n",
            "Epoch 23/50\n",
            "484/484 [==============================] - 4s 8ms/step - loss: 0.7166 - accuracy: 0.8356\n",
            "Epoch 24/50\n",
            "484/484 [==============================] - 4s 9ms/step - loss: 0.6919 - accuracy: 0.8418\n",
            "Epoch 25/50\n",
            "484/484 [==============================] - 4s 8ms/step - loss: 0.6687 - accuracy: 0.8437\n",
            "Epoch 26/50\n",
            "484/484 [==============================] - 4s 8ms/step - loss: 0.6655 - accuracy: 0.8428\n",
            "Epoch 27/50\n",
            "484/484 [==============================] - 4s 8ms/step - loss: 0.6526 - accuracy: 0.8436\n",
            "Epoch 28/50\n",
            "484/484 [==============================] - 4s 9ms/step - loss: 0.6458 - accuracy: 0.8465\n",
            "Epoch 29/50\n",
            "484/484 [==============================] - 4s 8ms/step - loss: 0.6429 - accuracy: 0.8452\n",
            "Epoch 30/50\n",
            "484/484 [==============================] - 4s 8ms/step - loss: 0.6303 - accuracy: 0.8435\n",
            "Epoch 31/50\n",
            "484/484 [==============================] - 4s 9ms/step - loss: 0.6247 - accuracy: 0.8455\n",
            "Epoch 32/50\n",
            "484/484 [==============================] - 4s 8ms/step - loss: 0.6260 - accuracy: 0.8460\n",
            "Epoch 33/50\n",
            "484/484 [==============================] - 4s 8ms/step - loss: 0.6154 - accuracy: 0.8447\n",
            "Epoch 34/50\n",
            "484/484 [==============================] - 4s 9ms/step - loss: 0.6134 - accuracy: 0.8464\n",
            "Epoch 35/50\n",
            "484/484 [==============================] - 4s 8ms/step - loss: 0.6087 - accuracy: 0.8466\n",
            "Epoch 36/50\n",
            "484/484 [==============================] - 4s 8ms/step - loss: 0.6064 - accuracy: 0.8458\n",
            "Epoch 37/50\n",
            "484/484 [==============================] - 4s 9ms/step - loss: 0.5964 - accuracy: 0.8486\n",
            "Epoch 38/50\n",
            "484/484 [==============================] - 4s 8ms/step - loss: 0.5928 - accuracy: 0.8478\n",
            "Epoch 39/50\n",
            "484/484 [==============================] - 4s 8ms/step - loss: 0.5917 - accuracy: 0.8472\n",
            "Epoch 40/50\n",
            "484/484 [==============================] - 5s 10ms/step - loss: 0.5862 - accuracy: 0.8480\n",
            "Epoch 41/50\n",
            "484/484 [==============================] - 4s 8ms/step - loss: 0.5812 - accuracy: 0.8483\n",
            "Epoch 42/50\n",
            "484/484 [==============================] - 4s 8ms/step - loss: 0.5864 - accuracy: 0.8476\n",
            "Epoch 43/50\n",
            "484/484 [==============================] - 4s 9ms/step - loss: 0.5895 - accuracy: 0.8441\n",
            "Epoch 44/50\n",
            "484/484 [==============================] - 4s 8ms/step - loss: 0.5794 - accuracy: 0.8480\n",
            "Epoch 45/50\n",
            "484/484 [==============================] - 4s 8ms/step - loss: 0.5725 - accuracy: 0.8480\n",
            "Epoch 46/50\n",
            "484/484 [==============================] - 4s 9ms/step - loss: 0.5671 - accuracy: 0.8492\n",
            "Epoch 47/50\n",
            "484/484 [==============================] - 4s 8ms/step - loss: 0.5722 - accuracy: 0.8473\n",
            "Epoch 48/50\n",
            "484/484 [==============================] - 4s 8ms/step - loss: 0.5717 - accuracy: 0.8474\n",
            "Epoch 49/50\n",
            "484/484 [==============================] - 4s 9ms/step - loss: 0.5636 - accuracy: 0.8487\n",
            "Epoch 50/50\n",
            "484/484 [==============================] - 5s 9ms/step - loss: 0.5598 - accuracy: 0.8490\n"
          ]
        }
      ]
    },
    {
      "cell_type": "code",
      "source": [
        "history2 = model.fit(predictors, label, epochs=50, verbose=1)"
      ],
      "metadata": {
        "colab": {
          "base_uri": "https://localhost:8080/"
        },
        "id": "Bh9q-47D8vob",
        "outputId": "e1a9f2df-394a-498b-921f-98bd6bd9f1e6"
      },
      "execution_count": 7,
      "outputs": [
        {
          "output_type": "stream",
          "name": "stdout",
          "text": [
            "Epoch 1/50\n",
            "484/484 [==============================] - 4s 8ms/step - loss: 0.5540 - accuracy: 0.8504\n",
            "Epoch 2/50\n",
            "484/484 [==============================] - 4s 8ms/step - loss: 0.5559 - accuracy: 0.8497\n",
            "Epoch 3/50\n",
            "484/484 [==============================] - 5s 10ms/step - loss: 0.5626 - accuracy: 0.8487\n",
            "Epoch 4/50\n",
            "484/484 [==============================] - 4s 8ms/step - loss: 0.5571 - accuracy: 0.8481\n",
            "Epoch 5/50\n",
            "484/484 [==============================] - 4s 8ms/step - loss: 0.5541 - accuracy: 0.8495\n",
            "Epoch 6/50\n",
            "484/484 [==============================] - 4s 9ms/step - loss: 0.5502 - accuracy: 0.8498\n",
            "Epoch 7/50\n",
            "484/484 [==============================] - 4s 8ms/step - loss: 0.5484 - accuracy: 0.8506\n",
            "Epoch 8/50\n",
            "484/484 [==============================] - 4s 8ms/step - loss: 0.5436 - accuracy: 0.8491\n",
            "Epoch 9/50\n",
            "484/484 [==============================] - 4s 9ms/step - loss: 0.5458 - accuracy: 0.8489\n",
            "Epoch 10/50\n",
            "484/484 [==============================] - 4s 8ms/step - loss: 0.5503 - accuracy: 0.8511\n",
            "Epoch 11/50\n",
            "484/484 [==============================] - 4s 8ms/step - loss: 0.5466 - accuracy: 0.8473\n",
            "Epoch 12/50\n",
            "484/484 [==============================] - 4s 9ms/step - loss: 0.5463 - accuracy: 0.8481\n",
            "Epoch 13/50\n",
            "484/484 [==============================] - 4s 9ms/step - loss: 0.5433 - accuracy: 0.8485\n",
            "Epoch 14/50\n",
            "484/484 [==============================] - 4s 8ms/step - loss: 0.5392 - accuracy: 0.8502\n",
            "Epoch 15/50\n",
            "484/484 [==============================] - 4s 8ms/step - loss: 0.5346 - accuracy: 0.8504\n",
            "Epoch 16/50\n",
            "484/484 [==============================] - 4s 8ms/step - loss: 0.5336 - accuracy: 0.8515\n",
            "Epoch 17/50\n",
            "484/484 [==============================] - 4s 8ms/step - loss: 0.5335 - accuracy: 0.8504\n",
            "Epoch 18/50\n",
            "484/484 [==============================] - 4s 8ms/step - loss: 0.5332 - accuracy: 0.8514\n",
            "Epoch 19/50\n",
            "484/484 [==============================] - 4s 9ms/step - loss: 0.5399 - accuracy: 0.8481\n",
            "Epoch 20/50\n",
            "484/484 [==============================] - 4s 8ms/step - loss: 0.5494 - accuracy: 0.8445\n",
            "Epoch 21/50\n",
            "484/484 [==============================] - 4s 8ms/step - loss: 0.5416 - accuracy: 0.8496\n",
            "Epoch 22/50\n",
            "484/484 [==============================] - 4s 9ms/step - loss: 0.5313 - accuracy: 0.8502\n",
            "Epoch 23/50\n",
            "484/484 [==============================] - 4s 8ms/step - loss: 0.5255 - accuracy: 0.8502\n",
            "Epoch 24/50\n",
            "484/484 [==============================] - 4s 8ms/step - loss: 0.5261 - accuracy: 0.8512\n",
            "Epoch 25/50\n",
            "484/484 [==============================] - 4s 9ms/step - loss: 0.5256 - accuracy: 0.8486\n",
            "Epoch 26/50\n",
            "484/484 [==============================] - 4s 8ms/step - loss: 0.5243 - accuracy: 0.8511\n",
            "Epoch 27/50\n",
            "484/484 [==============================] - 4s 8ms/step - loss: 0.5248 - accuracy: 0.8498\n",
            "Epoch 28/50\n",
            "484/484 [==============================] - 4s 9ms/step - loss: 0.5341 - accuracy: 0.8478\n",
            "Epoch 29/50\n",
            "484/484 [==============================] - 4s 8ms/step - loss: 0.5346 - accuracy: 0.8476\n",
            "Epoch 30/50\n",
            "484/484 [==============================] - 4s 8ms/step - loss: 0.5288 - accuracy: 0.8510\n",
            "Epoch 31/50\n",
            "484/484 [==============================] - 4s 9ms/step - loss: 0.5201 - accuracy: 0.8506\n",
            "Epoch 32/50\n",
            "484/484 [==============================] - 4s 8ms/step - loss: 0.5245 - accuracy: 0.8500\n",
            "Epoch 33/50\n",
            "484/484 [==============================] - 4s 8ms/step - loss: 0.5246 - accuracy: 0.8515\n",
            "Epoch 34/50\n",
            "484/484 [==============================] - 4s 9ms/step - loss: 0.5202 - accuracy: 0.8501\n",
            "Epoch 35/50\n",
            "484/484 [==============================] - 4s 8ms/step - loss: 0.5194 - accuracy: 0.8501\n",
            "Epoch 36/50\n",
            "484/484 [==============================] - 4s 8ms/step - loss: 0.5168 - accuracy: 0.8514\n",
            "Epoch 37/50\n",
            "484/484 [==============================] - 4s 9ms/step - loss: 0.5157 - accuracy: 0.8511\n",
            "Epoch 38/50\n",
            "484/484 [==============================] - 4s 8ms/step - loss: 0.5179 - accuracy: 0.8520\n",
            "Epoch 39/50\n",
            "484/484 [==============================] - 4s 8ms/step - loss: 0.5183 - accuracy: 0.8495\n",
            "Epoch 40/50\n",
            "484/484 [==============================] - 4s 9ms/step - loss: 0.5262 - accuracy: 0.8481\n",
            "Epoch 41/50\n",
            "484/484 [==============================] - 4s 8ms/step - loss: 0.5214 - accuracy: 0.8499\n",
            "Epoch 42/50\n",
            "484/484 [==============================] - 4s 8ms/step - loss: 0.5226 - accuracy: 0.8497\n",
            "Epoch 43/50\n",
            "484/484 [==============================] - 4s 9ms/step - loss: 0.5141 - accuracy: 0.8498\n",
            "Epoch 44/50\n",
            "484/484 [==============================] - 4s 9ms/step - loss: 0.5105 - accuracy: 0.8506\n",
            "Epoch 45/50\n",
            "484/484 [==============================] - 4s 8ms/step - loss: 0.5115 - accuracy: 0.8498\n",
            "Epoch 46/50\n",
            "484/484 [==============================] - 4s 8ms/step - loss: 0.5095 - accuracy: 0.8507\n",
            "Epoch 47/50\n",
            "484/484 [==============================] - 4s 9ms/step - loss: 0.5079 - accuracy: 0.8526\n",
            "Epoch 48/50\n",
            "484/484 [==============================] - 4s 8ms/step - loss: 0.5104 - accuracy: 0.8511\n",
            "Epoch 49/50\n",
            "484/484 [==============================] - 4s 8ms/step - loss: 0.5186 - accuracy: 0.8487\n",
            "Epoch 50/50\n",
            "484/484 [==============================] - 5s 9ms/step - loss: 0.5151 - accuracy: 0.8503\n"
          ]
        }
      ]
    },
    {
      "cell_type": "code",
      "metadata": {
        "id": "1fXTEO3GJ282",
        "colab": {
          "base_uri": "https://localhost:8080/",
          "height": 887
        },
        "outputId": "2383fa0c-1a8d-4ad5-feec-1108fe75171c"
      },
      "source": [
        "import matplotlib.pyplot as plt\n",
        "acc = history.history['accuracy']\n",
        "loss = history.history['loss']\n",
        "\n",
        "epochs = range(len(acc))\n",
        "\n",
        "plt.plot(epochs, acc, 'b', label='Training accuracy')\n",
        "plt.title('Training accuracy')\n",
        "\n",
        "plt.figure()\n",
        "\n",
        "plt.plot(epochs, loss, 'b', label='Training Loss')\n",
        "plt.title('Training loss')\n",
        "plt.legend()\n",
        "\n",
        "plt.show()"
      ],
      "execution_count": 8,
      "outputs": [
        {
          "output_type": "display_data",
          "data": {
            "text/plain": [
              "<Figure size 640x480 with 1 Axes>"
            ],
            "image/png": "[encoded data removed]"
          },
          "metadata": {}
        },
        {
          "output_type": "display_data",
          "data": {
            "text/plain": [
              "<Figure size 640x480 with 1 Axes>"
            ],
            "image/png": "[encoded data removed]"
          },
          "metadata": {}
        }
      ]
    },
    {
      "cell_type": "code",
      "metadata": {
        "id": "6Vc6PHgxa6Hm",
        "colab": {
          "base_uri": "https://localhost:8080/"
        },
        "outputId": "2d5b5388-bb57-4dcf-c1d2-37b031aa3efc"
      },
      "source": [
        "seed_text = \"Help me Obi Wan Kenobi, you're my only hope\"\n",
        "next_words = 100\n",
        "\n",
        "for _ in range(next_words):\n",
        "\ttoken_list = tokenizer.texts_to_sequences([seed_text])[0]\n",
        "\ttoken_list = pad_sequences([token_list], maxlen=max_sequence_len-1, padding='pre')\n",
        "\tpredicted = np.argmax(model.predict(token_list), axis=-1)\n",
        "\toutput_word = \"\"\n",
        "\tfor word, index in tokenizer.word_index.items():\n",
        "\t\tif index == predicted:\n",
        "\t\t\toutput_word = word\n",
        "\t\t\tbreak\n",
        "\tseed_text += \" \" + output_word\n",
        "print(seed_text)"
      ],
      "execution_count": 9,
      "outputs": [
        {
          "output_type": "stream",
          "name": "stdout",
          "text": [
            "1/1 [==============================] - 0s 20ms/step\n",
            "1/1 [==============================] - 0s 17ms/step\n",
            "1/1 [==============================] - 0s 17ms/step\n",
            "1/1 [==============================] - 0s 17ms/step\n",
            "1/1 [==============================] - 0s 17ms/step\n",
            "1/1 [==============================] - 0s 17ms/step\n",
            "1/1 [==============================] - 0s 17ms/step\n",
            "1/1 [==============================] - 0s 17ms/step\n",
            "1/1 [==============================] - 0s 17ms/step\n",
            "1/1 [==============================] - 0s 18ms/step\n",
            "1/1 [==============================] - 0s 17ms/step\n",
            "1/1 [==============================] - 0s 18ms/step\n",
            "1/1 [==============================] - 0s 21ms/step\n",
            "1/1 [==============================] - 0s 17ms/step\n",
            "1/1 [==============================] - 0s 19ms/step\n",
            "1/1 [==============================] - 0s 17ms/step\n",
            "1/1 [==============================] - 0s 17ms/step\n",
            "1/1 [==============================] - 0s 19ms/step\n",
            "1/1 [==============================] - 0s 17ms/step\n",
            "1/1 [==============================] - 0s 18ms/step\n",
            "1/1 [==============================] - 0s 17ms/step\n",
            "1/1 [==============================] - 0s 17ms/step\n",
            "1/1 [==============================] - 0s 17ms/step\n",
            "1/1 [==============================] - 0s 17ms/step\n",
            "1/1 [==============================] - 0s 18ms/step\n",
            "1/1 [==============================] - 0s 17ms/step\n",
            "1/1 [==============================] - 0s 18ms/step\n",
            "1/1 [==============================] - 0s 17ms/step\n",
            "1/1 [==============================] - 0s 17ms/step\n",
            "1/1 [==============================] - 0s 17ms/step\n",
            "1/1 [==============================] - 0s 17ms/step\n",
            "1/1 [==============================] - 0s 18ms/step\n",
            "1/1 [==============================] - 0s 17ms/step\n",
            "1/1 [==============================] - 0s 17ms/step\n",
            "1/1 [==============================] - 0s 18ms/step\n",
            "1/1 [==============================] - 0s 18ms/step\n",
            "1/1 [==============================] - 0s 17ms/step\n",
            "1/1 [==============================] - 0s 17ms/step\n",
            "1/1 [==============================] - 0s 17ms/step\n",
            "1/1 [==============================] - 0s 17ms/step\n",
            "1/1 [==============================] - 0s 17ms/step\n",
            "1/1 [==============================] - 0s 18ms/step\n",
            "1/1 [==============================] - 0s 17ms/step\n",
            "1/1 [==============================] - 0s 18ms/step\n",
            "1/1 [==============================] - 0s 17ms/step\n",
            "1/1 [==============================] - 0s 18ms/step\n",
            "1/1 [==============================] - 0s 17ms/step\n",
            "1/1 [==============================] - 0s 29ms/step\n",
            "1/1 [==============================] - 0s 17ms/step\n",
            "1/1 [==============================] - 0s 17ms/step\n",
            "1/1 [==============================] - 0s 17ms/step\n",
            "1/1 [==============================] - 0s 17ms/step\n",
            "1/1 [==============================] - 0s 17ms/step\n",
            "1/1 [==============================] - 0s 18ms/step\n",
            "1/1 [==============================] - 0s 17ms/step\n",
            "1/1 [==============================] - 0s 17ms/step\n",
            "1/1 [==============================] - 0s 17ms/step\n",
            "1/1 [==============================] - 0s 21ms/step\n",
            "1/1 [==============================] - 0s 17ms/step\n",
            "1/1 [==============================] - 0s 17ms/step\n",
            "1/1 [==============================] - 0s 17ms/step\n",
            "1/1 [==============================] - 0s 17ms/step\n",
            "1/1 [==============================] - 0s 17ms/step\n",
            "1/1 [==============================] - 0s 17ms/step\n",
            "1/1 [==============================] - 0s 26ms/step\n",
            "1/1 [==============================] - 0s 17ms/step\n",
            "1/1 [==============================] - 0s 17ms/step\n",
            "1/1 [==============================] - 0s 17ms/step\n",
            "1/1 [==============================] - 0s 17ms/step\n",
            "1/1 [==============================] - 0s 18ms/step\n",
            "1/1 [==============================] - 0s 27ms/step\n",
            "1/1 [==============================] - 0s 17ms/step\n",
            "1/1 [==============================] - 0s 19ms/step\n",
            "1/1 [==============================] - 0s 17ms/step\n",
            "1/1 [==============================] - 0s 18ms/step\n",
            "1/1 [==============================] - 0s 17ms/step\n",
            "1/1 [==============================] - 0s 31ms/step\n",
            "1/1 [==============================] - 0s 33ms/step\n",
            "1/1 [==============================] - 0s 35ms/step\n",
            "1/1 [==============================] - 0s 27ms/step\n",
            "1/1 [==============================] - 0s 24ms/step\n",
            "1/1 [==============================] - 0s 26ms/step\n",
            "1/1 [==============================] - 0s 24ms/step\n",
            "1/1 [==============================] - 0s 26ms/step\n",
            "1/1 [==============================] - 0s 26ms/step\n",
            "1/1 [==============================] - 0s 25ms/step\n",
            "1/1 [==============================] - 0s 37ms/step\n",
            "1/1 [==============================] - 0s 27ms/step\n",
            "1/1 [==============================] - 0s 25ms/step\n",
            "1/1 [==============================] - 0s 25ms/step\n",
            "1/1 [==============================] - 0s 25ms/step\n",
            "1/1 [==============================] - 0s 25ms/step\n",
            "1/1 [==============================] - 0s 31ms/step\n",
            "1/1 [==============================] - 0s 29ms/step\n",
            "1/1 [==============================] - 0s 25ms/step\n",
            "1/1 [==============================] - 0s 30ms/step\n",
            "1/1 [==============================] - 0s 29ms/step\n",
            "1/1 [==============================] - 0s 28ms/step\n",
            "1/1 [==============================] - 0s 27ms/step\n",
            "1/1 [==============================] - 0s 29ms/step\n",
            "Help me Obi Wan Kenobi, you're my only hope as foes still rare rare ' find hate tender whom a date day hath not every name are free so deem'd gone so live kind and he may be ' thought hence audit parts ' ' ' ' excuse you am old treasure ' may say find thee bright again me ' ' win say me warning back again and i be hence crime ' thought woe hate' he shows churl go well a give thee that ' ' say ' so live men thou art true and in thee thy self all hate away on truth sorrow sorrow stand\n"
          ]
        }
      ]
    }
  ]
}